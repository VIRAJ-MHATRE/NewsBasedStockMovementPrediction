{
 "cells": [
  {
   "cell_type": "markdown",
   "metadata": {},
   "source": [
    "<h3><B>Preprocessing the data"
   ]
  },
  {
   "cell_type": "code",
   "execution_count": 1,
   "metadata": {},
   "outputs": [
    {
     "name": "stderr",
     "output_type": "stream",
     "text": [
      "[nltk_data] Downloading package punkt to\n",
      "[nltk_data]     C:\\Users\\Jitesh\\AppData\\Roaming\\nltk_data...\n",
      "[nltk_data]   Package punkt is already up-to-date!\n",
      "[nltk_data] Downloading package averaged_perceptron_tagger to\n",
      "[nltk_data]     C:\\Users\\Jitesh\\AppData\\Roaming\\nltk_data...\n",
      "[nltk_data]   Package averaged_perceptron_tagger is already up-to-\n",
      "[nltk_data]       date!\n",
      "[nltk_data] Downloading package averaged_perceptron_tagger_eng to\n",
      "[nltk_data]     C:\\Users\\Jitesh\\AppData\\Roaming\\nltk_data...\n",
      "[nltk_data]   Package averaged_perceptron_tagger_eng is already up-to-\n",
      "[nltk_data]       date!\n",
      "[nltk_data] Downloading package wordnet to\n",
      "[nltk_data]     C:\\Users\\Jitesh\\AppData\\Roaming\\nltk_data...\n",
      "[nltk_data]   Package wordnet is already up-to-date!\n",
      "[nltk_data] Downloading package stopwords to\n",
      "[nltk_data]     C:\\Users\\Jitesh\\AppData\\Roaming\\nltk_data...\n",
      "[nltk_data]   Package stopwords is already up-to-date!\n",
      "[nltk_data] Downloading package vader_lexicon to\n",
      "[nltk_data]     C:\\Users\\Jitesh\\AppData\\Roaming\\nltk_data...\n",
      "[nltk_data]   Package vader_lexicon is already up-to-date!\n",
      "[nltk_data] Downloading package punkt_tab to\n",
      "[nltk_data]     C:\\Users\\Jitesh\\AppData\\Roaming\\nltk_data...\n",
      "[nltk_data]   Package punkt_tab is already up-to-date!\n",
      "No model was supplied, defaulted to dbmdz/bert-large-cased-finetuned-conll03-english and revision f2482bf (https://huggingface.co/dbmdz/bert-large-cased-finetuned-conll03-english).\n",
      "Using a pipeline without specifying a model name and revision in production is not recommended.\n",
      "Some weights of the model checkpoint at dbmdz/bert-large-cased-finetuned-conll03-english were not used when initializing BertForTokenClassification: ['bert.pooler.dense.bias', 'bert.pooler.dense.weight']\n",
      "- This IS expected if you are initializing BertForTokenClassification from the checkpoint of a model trained on another task or with another architecture (e.g. initializing a BertForSequenceClassification model from a BertForPreTraining model).\n",
      "- This IS NOT expected if you are initializing BertForTokenClassification from the checkpoint of a model that you expect to be exactly identical (initializing a BertForSequenceClassification model from a BertForSequenceClassification model).\n",
      "C:\\Users\\Jitesh\\AppData\\Roaming\\Python\\Python312\\site-packages\\transformers\\tokenization_utils_base.py:1601: FutureWarning: `clean_up_tokenization_spaces` was not set. It will be set to `True` by default. This behavior will be depracted in transformers v4.45, and will be then set to `False` by default. For more details check this issue: https://github.com/huggingface/transformers/issues/31884\n",
      "  warnings.warn(\n",
      "C:\\Users\\Jitesh\\AppData\\Roaming\\Python\\Python312\\site-packages\\transformers\\pipelines\\token_classification.py:168: UserWarning: `grouped_entities` is deprecated and will be removed in version v5.0.0, defaulted to `aggregation_strategy=\"AggregationStrategy.SIMPLE\"` instead.\n",
      "  warnings.warn(\n"
     ]
    }
   ],
   "source": [
    "import nltk \n",
    "nltk.download('punkt')\n",
    "nltk.download('averaged_perceptron_tagger')\n",
    "nltk.download('averaged_perceptron_tagger_eng')\n",
    "nltk.download('wordnet')\n",
    "nltk.download('stopwords')\n",
    "nltk.download('vader_lexicon')\n",
    "nltk.download('punkt_tab')\n",
    "\n",
    "from nltk.corpus import stopwords\n",
    "from nltk.stem import WordNetLemmatizer\n",
    "from nltk.corpus import wordnet\n",
    "from nltk.tokenize import TreebankWordTokenizer\n",
    "from nrclex import NRCLex\n",
    "from transformers import pipeline\n",
    "ner_pipeline =pipeline('ner',grouped_entities=True)"
   ]
  },
  {
   "cell_type": "code",
   "execution_count": 2,
   "metadata": {},
   "outputs": [
    {
     "name": "stdout",
     "output_type": "stream",
     "text": [
      "0    elon musk often inflame politically tense mome...\n",
      "Name: Text, dtype: object\n"
     ]
    }
   ],
   "source": [
    "import pandas as pd\n",
    "\n",
    "str_data = [\"Elon Musk has often inflamed politically tense moments, raising worries for the US election\"]\n",
    "str_data[0]=str_data[0].lower()\n",
    "df = pd.DataFrame(str_data, columns=['Text'])\n",
    "\n",
    "# Define a function to map POS tags to WordNet tags\n",
    "def get_pos_tag(tag):\n",
    "    if tag.startswith('J'):\n",
    "        return wordnet.ADJ\n",
    "    elif tag.startswith('V'):\n",
    "        return wordnet.VERB\n",
    "    elif tag.startswith('N'):\n",
    "        return wordnet.NOUN\n",
    "    elif tag.startswith('R'):\n",
    "        return wordnet.ADV\n",
    "    else:\n",
    "        return wordnet.NOUN\n",
    "\n",
    "# Initialize lemmatizer and tokenizer\n",
    "lemmatizer = WordNetLemmatizer()\n",
    "tokenizer = TreebankWordTokenizer()\n",
    "stop_words = set(stopwords.words('english'))\n",
    "\n",
    "# Apply lemmatization and stop words removal\n",
    "df['Text'] = df['Text'].apply(\n",
    "    lambda x: \" \".join([\n",
    "        lemmatizer.lemmatize(token, get_pos_tag(tag))\n",
    "        for token, tag in nltk.pos_tag(tokenizer.tokenize(x))\n",
    "        if token not in stop_words\n",
    "    ]) if pd.notnull(x) else \"\"\n",
    ")\n",
    "\n",
    "print(df['Text'].head())"
   ]
  },
  {
   "cell_type": "code",
   "execution_count": 3,
   "metadata": {},
   "outputs": [],
   "source": [
    "inputdf=pd.DataFrame(columns=['Vader_sentiment_score', 'Blob_polarity', 'BlobSubjectivity',\n",
    "       'positive_word_count', 'negative_word_count', 'person_count',\n",
    "       'organization_count', 'location_count', 'anger', 'anticipation',\n",
    "       'disgust', 'fear', 'joy', 'sadness', 'trust', 'Ticker'])"
   ]
  },
  {
   "cell_type": "markdown",
   "metadata": {},
   "source": [
    "<h3><b>VADER SENTIMENT SCORES"
   ]
  },
  {
   "cell_type": "code",
   "execution_count": 4,
   "metadata": {},
   "outputs": [],
   "source": [
    "from vaderSentiment.vaderSentiment import SentimentIntensityAnalyzer\n",
    "analyzer=SentimentIntensityAnalyzer()\n",
    "def extratVaderFeatures(text):\n",
    "    score=analyzer.polarity_scores(text)\n",
    "    sentimentScore=score['compound']\n",
    "    return sentimentScore\n",
    "inputdf['Vader_sentiment_score']=df['Text'].apply(extratVaderFeatures)"
   ]
  },
  {
   "cell_type": "markdown",
   "metadata": {},
   "source": [
    "<h3><b>TEXTBLOB SUBJECTIVITY AND POLARITY"
   ]
  },
  {
   "cell_type": "code",
   "execution_count": 5,
   "metadata": {},
   "outputs": [],
   "source": [
    "from textblob import TextBlob\n",
    "def extractTextBlobSubjectivity(text):\n",
    "    blob=TextBlob(text)\n",
    "    polarity=blob.sentiment.polarity\n",
    "    subjectivity=blob.sentiment.subjectivity\n",
    "    return polarity,subjectivity\n",
    "inputdf['Blob_polarity'],inputdf['BlobSubjectivity']=zip(*df['Text'].apply(extractTextBlobSubjectivity))"
   ]
  },
  {
   "cell_type": "markdown",
   "metadata": {},
   "source": [
    "<h3><b>POSITIVE AND NEGATIVE WORD COUNT"
   ]
  },
  {
   "cell_type": "code",
   "execution_count": 6,
   "metadata": {},
   "outputs": [
    {
     "name": "stdout",
     "output_type": "stream",
     "text": [
      "   positive_word_count  negative_word_count\n",
      "0                    0                    2\n"
     ]
    }
   ],
   "source": [
    "from nltk.sentiment.vader import SentimentIntensityAnalyzer\n",
    "\n",
    "sia = SentimentIntensityAnalyzer()\n",
    "\n",
    "def posneg_vader(text):\n",
    "    tokens = text.split()\n",
    "    positive_count = sum(1 for word in tokens if sia.polarity_scores(word)['compound'] > 0.05)\n",
    "    negative_count = sum(1 for word in tokens if sia.polarity_scores(word)['compound'] < -0.05)\n",
    "    return positive_count, negative_count\n",
    "\n",
    "inputdf['positive_word_count'], inputdf['negative_word_count'] = zip(*df['Text'].apply(posneg_vader))\n",
    "\n",
    "print(inputdf[['positive_word_count', 'negative_word_count']].head())"
   ]
  },
  {
   "cell_type": "markdown",
   "metadata": {},
   "source": [
    "<h3><b>NAME ENTITY RECOGNITION"
   ]
  },
  {
   "cell_type": "code",
   "execution_count": 7,
   "metadata": {},
   "outputs": [
    {
     "name": "stdout",
     "output_type": "stream",
     "text": [
      "   person_count  organization_count  location_count\n",
      "0             0                   0               0\n"
     ]
    }
   ],
   "source": [
    "def ner__(text):\n",
    "    entities=ner_pipeline(text)\n",
    "    person_count=sum(1 for entity in entities if entity['entity_group']=='PER')\n",
    "    organization_count = sum(1 for entity in entities if entity['entity_group'] == 'ORG')\n",
    "    location_count = sum(1 for entity in entities if entity['entity_group'] == 'LOC')\n",
    "    return person_count, organization_count, location_count\n",
    "\n",
    "# Apply the NER function to your data\n",
    "inputdf['person_count'], inputdf['organization_count'], inputdf['location_count'] = zip(*df['Text'].apply(ner__))\n",
    "\n",
    "print(inputdf[['person_count', 'organization_count', 'location_count']].head())"
   ]
  },
  {
   "cell_type": "markdown",
   "metadata": {},
   "source": [
    "<h3><b>EMOTION SCORES"
   ]
  },
  {
   "cell_type": "code",
   "execution_count": 8,
   "metadata": {},
   "outputs": [],
   "source": [
    "from nrclex import NRCLex\n",
    "def nrc(text):\n",
    "    emotion=NRCLex(text)\n",
    "    scores=emotion.raw_emotion_scores\n",
    "    return scores.get('anger',0),scores.get('anticipation',0),scores.get('disgust',0),scores.get('fear',0),scores.get('joy',0),scores.get('sadness',0),scores.get('trust',0)\n",
    "inputdf['anger'],inputdf['anticipation'],inputdf['disgust'],inputdf['fear'],inputdf['joy'],inputdf['sadness'],inputdf['trust']= zip(*df['Text'].apply(nrc))"
   ]
  },
  {
   "cell_type": "markdown",
   "metadata": {},
   "source": [
    "<h2><b>General news"
   ]
  },
  {
   "cell_type": "markdown",
   "metadata": {},
   "source": [
    "\n",
    "Mapping of categories to numeric values:\n",
    "\n",
    "AAPL: 0\n",
    "\n",
    "AMZN: 1\n",
    "\n",
    "MSFT: 2\n",
    "\n",
    "NVDA: 3\n",
    "\n",
    "TSLA: 4"
   ]
  },
  {
   "cell_type": "markdown",
   "metadata": {},
   "source": [
    "<h3><b>COMPANY??"
   ]
  },
  {
   "cell_type": "code",
   "execution_count": 9,
   "metadata": {},
   "outputs": [],
   "source": [
    "inputdf['Ticker']=4"
   ]
  },
  {
   "cell_type": "markdown",
   "metadata": {},
   "source": [
    "<h4>XGBOOST classification"
   ]
  },
  {
   "cell_type": "code",
   "execution_count": 10,
   "metadata": {},
   "outputs": [
    {
     "name": "stdout",
     "output_type": "stream",
     "text": [
      "XGB  model loaded from 'XGB_close_classifier.pkl'.\n"
     ]
    }
   ],
   "source": [
    "import pickle\n",
    "with open(\"general data models/XGB_close_classifier.pkl\", 'rb') as file:\n",
    "    GXGBc_classifier = pickle.load(file)\n",
    "\n",
    "print(\"XGB  model loaded from 'XGB_close_classifier.pkl'.\")"
   ]
  },
  {
   "cell_type": "code",
   "execution_count": 11,
   "metadata": {},
   "outputs": [
    {
     "name": "stdout",
     "output_type": "stream",
     "text": [
      "0.4037289\n"
     ]
    }
   ],
   "source": [
    "probabilities = GXGBc_classifier.predict_proba(inputdf)\n",
    "\n",
    "prob = probabilities[0,1]\n",
    "print(prob)"
   ]
  },
  {
   "cell_type": "code",
   "execution_count": 12,
   "metadata": {},
   "outputs": [
    {
     "name": "stdout",
     "output_type": "stream",
     "text": [
      "XGB model loaded from 'XGB_trade_classifier.pkl'.\n"
     ]
    }
   ],
   "source": [
    "import pickle\n",
    "with open(\"general data models/XGB_trade_classifier.pkl\", 'rb') as file:\n",
    "    GXGBt_classifier = pickle.load(file)\n",
    "\n",
    "print(\"XGB model loaded from 'XGB_trade_classifier.pkl'.\")"
   ]
  },
  {
   "cell_type": "code",
   "execution_count": 13,
   "metadata": {},
   "outputs": [
    {
     "name": "stdout",
     "output_type": "stream",
     "text": [
      "0.37992257\n"
     ]
    }
   ],
   "source": [
    "probabilities = GXGBt_classifier.predict_proba(inputdf)\n",
    "\n",
    "prob = probabilities[0,1]\n",
    "print(prob)"
   ]
  },
  {
   "cell_type": "markdown",
   "metadata": {},
   "source": [
    "<h3>XGBOOST regression"
   ]
  },
  {
   "cell_type": "code",
   "execution_count": 14,
   "metadata": {},
   "outputs": [
    {
     "name": "stdout",
     "output_type": "stream",
     "text": [
      "XGB model loaded from 'xgb_regressor_trade.pkl'.\n"
     ]
    }
   ],
   "source": [
    "import pickle\n",
    "with open(\"general data models/xgb_regressor_trade.pkl\", 'rb') as file:\n",
    "    GXGBt_regression = pickle.load(file)\n",
    "\n",
    "print(\"XGB model loaded from 'xgb_regressor_trade.pkl'.\")"
   ]
  },
  {
   "cell_type": "code",
   "execution_count": 15,
   "metadata": {},
   "outputs": [
    {
     "name": "stdout",
     "output_type": "stream",
     "text": [
      "7.4285283\n"
     ]
    }
   ],
   "source": [
    "probabilities = GXGBt_regression.predict(inputdf)\n",
    "\n",
    "prob = probabilities[0]\n",
    "print(prob)"
   ]
  },
  {
   "cell_type": "code",
   "execution_count": 16,
   "metadata": {},
   "outputs": [
    {
     "name": "stdout",
     "output_type": "stream",
     "text": [
      "XGB model loaded from 'xgb_regressor_close.pkl'.\n"
     ]
    }
   ],
   "source": [
    "import pickle\n",
    "with open(\"general data models/xgb_regressor_close.pkl\", 'rb') as file:\n",
    "    GXGBc_regression = pickle.load(file)\n",
    "\n",
    "print(\"XGB model loaded from 'xgb_regressor_close.pkl'.\")"
   ]
  },
  {
   "cell_type": "code",
   "execution_count": 17,
   "metadata": {},
   "outputs": [
    {
     "name": "stdout",
     "output_type": "stream",
     "text": [
      "-0.39198834\n"
     ]
    }
   ],
   "source": [
    "probabilities = GXGBc_regression.predict(inputdf)\n",
    "\n",
    "prob = probabilities[0]\n",
    "print(prob)"
   ]
  }
 ],
 "metadata": {
  "kernelspec": {
   "display_name": "Python 3",
   "language": "python",
   "name": "python3"
  },
  "language_info": {
   "codemirror_mode": {
    "name": "ipython",
    "version": 3
   },
   "file_extension": ".py",
   "mimetype": "text/x-python",
   "name": "python",
   "nbconvert_exporter": "python",
   "pygments_lexer": "ipython3",
   "version": "3.12.0"
  }
 },
 "nbformat": 4,
 "nbformat_minor": 2
}
